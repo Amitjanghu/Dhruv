{
 "cells": [
  {
   "cell_type": "raw",
   "id": "aed6ac3f",
   "metadata": {},
   "source": [
    "ab\n",
    "a\n",
    "a\n",
    "dasfds\n",
    "fafdd\n",
    "asdfasdf\n",
    "asfasf\n",
    "afds\n"
   ]
  },
  {
   "cell_type": "raw",
   "id": "b3572148",
   "metadata": {},
   "source": [
    "afdf\n",
    "afeaf\n",
    "afaf\n",
    "asfadsf\n",
    "adfasf\n"
   ]
  },
  {
   "cell_type": "raw",
   "id": "45e4f3a4",
   "metadata": {},
   "source": [
    "afdsfadsfsd\n",
    "afadf\n",
    "afsadf\n",
    "afadsf\n",
    "afsadfa\n"
   ]
  },
  {
   "cell_type": "code",
   "execution_count": null,
   "id": "37a6b2c6",
   "metadata": {},
   "outputs": [],
   "source": []
  }
 ],
 "metadata": {
  "kernelspec": {
   "display_name": "Python 3",
   "language": "python",
   "name": "python3"
  },
  "language_info": {
   "codemirror_mode": {
    "name": "ipython",
    "version": 3
   },
   "file_extension": ".py",
   "mimetype": "text/x-python",
   "name": "python",
   "nbconvert_exporter": "python",
   "pygments_lexer": "ipython3",
   "version": "3.8.8"
  }
 },
 "nbformat": 4,
 "nbformat_minor": 5
}
