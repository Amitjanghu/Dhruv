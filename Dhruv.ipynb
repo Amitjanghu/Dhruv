{
 "cells": [
  {
   "cell_type": "code",
   "execution_count": null,
   "id": "9ff92b40",
   "metadata": {},
   "outputs": [],
   "source": [
    "ab\n",
    "a\n",
    "a\n",
    "dasfds\n",
    "fafdd\n",
    "asdfasdf\n",
    "asfasf\n",
    "afds\n"
   ]
  },
  {
   "cell_type": "code",
   "execution_count": null,
   "id": "1f20428f",
   "metadata": {},
   "outputs": [],
   "source": [
    "afdf\n",
    "afeaf\n",
    "afaf\n",
    "asfadsf\n",
    "adfasf\n"
   ]
  },
  {
   "cell_type": "code",
   "execution_count": null,
   "id": "80ec9390",
   "metadata": {},
   "outputs": [],
   "source": [
    "afdsfadsfsd\n",
    "afadf\n",
    "afsadf\n",
    "afadsf\n",
    "afsadfa\n"
   ]
  },
  {
   "cell_type": "code",
   "execution_count": null,
   "id": "4de2e299",
   "metadata": {},
   "outputs": [],
   "source": []
  }
 ],
 "metadata": {
  "kernelspec": {
   "display_name": "Python 3",
   "language": "python",
   "name": "python3"
  },
  "language_info": {
   "codemirror_mode": {
    "name": "ipython",
    "version": 3
   },
   "file_extension": ".py",
   "mimetype": "text/x-python",
   "name": "python",
   "nbconvert_exporter": "python",
   "pygments_lexer": "ipython3",
   "version": "3.8.8"
  }
 },
 "nbformat": 4,
 "nbformat_minor": 5
}
